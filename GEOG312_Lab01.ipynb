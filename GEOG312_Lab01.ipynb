{
  "nbformat": 4,
  "nbformat_minor": 0,
  "metadata": {
    "colab": {
      "provenance": []
    },
    "kernelspec": {
      "name": "python3",
      "display_name": "Python 3"
    },
    "language_info": {
      "name": "python"
    }
  },
  "cells": [
    {
      "cell_type": "code",
      "execution_count": 1,
      "metadata": {
        "colab": {
          "base_uri": "https://localhost:8080/"
        },
        "id": "UNyTCL4J-5mB",
        "outputId": "5b6c5b7f-d6fe-4494-f530-86bcf09a4959"
      },
      "outputs": [
        {
          "output_type": "stream",
          "name": "stdout",
          "text": [
            "Submitted time: 2023-12-02 00:45:24.412646\n"
          ]
        }
      ],
      "source": [
        "from datetime import datetime\n",
        "\n",
        "now = datetime.now()\n",
        "print(f\"Submitted time: {now}\")"
      ]
    },
    {
      "cell_type": "markdown",
      "source": [
        "Q1: Simple Message: Assign a message to a variable, and then print that message."
      ],
      "metadata": {
        "id": "IbkrtCuy_AnQ"
      }
    },
    {
      "cell_type": "code",
      "source": [
        "message = \"This is a message!\"\n",
        "print(message)"
      ],
      "metadata": {
        "colab": {
          "base_uri": "https://localhost:8080/"
        },
        "id": "6tQdJMLo_DkJ",
        "outputId": "600036c4-4c3d-48d3-e55e-fd9e3418cc1c"
      },
      "execution_count": 10,
      "outputs": [
        {
          "output_type": "stream",
          "name": "stdout",
          "text": [
            "This is a message!\n"
          ]
        }
      ]
    },
    {
      "cell_type": "markdown",
      "source": [
        "Q2: Simple Messages: Assign a message to a variable, and print that message. Then change the value of the variable to a new message, and print the new message."
      ],
      "metadata": {
        "id": "bEVmaKcE_aKM"
      }
    },
    {
      "cell_type": "code",
      "source": [
        "message = \"This is a message!\"\n",
        "print(message)\n",
        "message = \"This is a slightly different message.\"\n",
        "print(message)"
      ],
      "metadata": {
        "colab": {
          "base_uri": "https://localhost:8080/"
        },
        "id": "MMzOqppu_dbd",
        "outputId": "fd4b0451-ddd8-467b-cc50-69ef43b74e94"
      },
      "execution_count": 8,
      "outputs": [
        {
          "output_type": "stream",
          "name": "stdout",
          "text": [
            "This is a message!\n",
            "This is a slightly different message.\n"
          ]
        }
      ]
    },
    {
      "cell_type": "markdown",
      "source": [
        "Q3: Personal Message: Use a variable to represent a person’s name, and print a message to that person. Your message should be simple, such as, “Hello Eric, would you like to learn some Python today?”"
      ],
      "metadata": {
        "id": "xABB9SRV_vU-"
      }
    },
    {
      "cell_type": "code",
      "source": [
        "name = \"Will\"\n",
        "message3 = f\"Hello {name}, would you like to learn some Python today?\"\n",
        "print(message3)"
      ],
      "metadata": {
        "colab": {
          "base_uri": "https://localhost:8080/"
        },
        "id": "V_Ie8HQk_5I1",
        "outputId": "a9ef41eb-14be-4695-96ff-ee1f7401c688"
      },
      "execution_count": 9,
      "outputs": [
        {
          "output_type": "stream",
          "name": "stdout",
          "text": [
            "Hello Will, would you like to learn some Python today?\n"
          ]
        }
      ]
    },
    {
      "cell_type": "markdown",
      "source": [
        "Q4: Name Cases: Use a variable to represent a person’s name, and then print that person’s name in lowercase, uppercase, and title case."
      ],
      "metadata": {
        "id": "B4joPL4FAUDf"
      }
    },
    {
      "cell_type": "code",
      "source": [
        "name = \"will whitehead\"\n",
        "print(name.upper())\n",
        "print(name.lower())\n",
        "print(name.title())"
      ],
      "metadata": {
        "colab": {
          "base_uri": "https://localhost:8080/"
        },
        "id": "Tj2sKKflAX2o",
        "outputId": "0b140549-2c8c-4c42-cb45-b66ca72e1c9f"
      },
      "execution_count": 12,
      "outputs": [
        {
          "output_type": "stream",
          "name": "stdout",
          "text": [
            "WILL WHITEHEAD\n",
            "will whitehead\n",
            "Will Whitehead\n"
          ]
        }
      ]
    },
    {
      "cell_type": "markdown",
      "source": [
        "Q5: Famous Quote: Find a quote from a famous person you admire. Print the quote and the name of its author. Your output should look something like the following, including the quotation marks:\n",
        "\n",
        "Albert Einstein once said, “A person who never made a mistake never tried anything new.”"
      ],
      "metadata": {
        "id": "1-rDnnb9AYHl"
      }
    },
    {
      "cell_type": "code",
      "source": [
        "#this program prints out a quote, preserving the quotation marks.\n",
        "quote = '\"To be, or not to be, that is the question.\" - William Shakespeare, from Hamlet'\n",
        "print(quote)"
      ],
      "metadata": {
        "colab": {
          "base_uri": "https://localhost:8080/"
        },
        "id": "7mEEZKC2Aapu",
        "outputId": "86dc9eaf-de3f-43da-b07c-27ed2b620529"
      },
      "execution_count": 13,
      "outputs": [
        {
          "output_type": "stream",
          "name": "stdout",
          "text": [
            "\"To be, or not to be, that is the question.\" - William Shakespeare, from Hamlet\n"
          ]
        }
      ]
    },
    {
      "cell_type": "markdown",
      "source": [
        "Q6: Famous Quote 2: Repeat Exercise 2-5, but this time, represent the famous person’s name using a variable called famous_person. Then compose your message and represent it with a new variable called message. Print your message."
      ],
      "metadata": {
        "id": "gNmdsSVnAazH"
      }
    },
    {
      "cell_type": "code",
      "source": [
        "#this program combines 3 variables to display a quote, an attribution, and the source of the quote.\n",
        "quote = '\"To be, or not to be, that is the question.\"'\n",
        "famous_person = \"William Shakespeare\"\n",
        "play = \", from Hamlet\"\n",
        "message = (f\"{quote} - {famous_person}{play}\")\n",
        "print(message)"
      ],
      "metadata": {
        "colab": {
          "base_uri": "https://localhost:8080/"
        },
        "id": "4hfKY_hlAdv-",
        "outputId": "9decdc21-f606-47fd-e308-0791a5eb2182"
      },
      "execution_count": 16,
      "outputs": [
        {
          "output_type": "stream",
          "name": "stdout",
          "text": [
            "\"To be, or not to be, that is the question.\" - William Shakespeare, from Hamlet\n"
          ]
        }
      ]
    },
    {
      "cell_type": "markdown",
      "source": [
        "Q7: Stripping Names: Use a variable to represent a person’s name, and include some whitespace characters at the beginning and end of the name. Make sure you use each character combination, \"\\t\" and \"\\n\", at least once. Print the name once, so the whitespace around the name is displayed. Then print the name using each of the three stripping functions, lstrip(), rstrip(), and strip()."
      ],
      "metadata": {
        "id": "azEIdpxPAd8b"
      }
    },
    {
      "cell_type": "code",
      "source": [
        "name = \"   Will \\n\\t Whitehead  \"\n",
        "print(name)\n",
        "print(name.rstrip())\n",
        "print(name.lstrip())\n",
        "print(name.strip())"
      ],
      "metadata": {
        "colab": {
          "base_uri": "https://localhost:8080/"
        },
        "id": "aS1JHX5DAg6i",
        "outputId": "2f7cf28d-919b-4d07-fc4e-894d50881456"
      },
      "execution_count": 20,
      "outputs": [
        {
          "output_type": "stream",
          "name": "stdout",
          "text": [
            "   Will \n",
            "\t Whitehead  \n",
            "   Will \n",
            "\t Whitehead\n",
            "Will \n",
            "\t Whitehead  \n",
            "Will \n",
            "\t Whitehead\n"
          ]
        }
      ]
    },
    {
      "cell_type": "markdown",
      "source": [
        "Q8: Number Eight: Write addition, subtraction, multiplication, and division operations that each result in the number 8. Be sure to enclose your operations in print() calls to see the results. You should create four lines that look like this:\n",
        "\n",
        "print(5 + 3)\n",
        "\n",
        "Your output should simply be four lines with the number 8 appearing once on each line."
      ],
      "metadata": {
        "id": "WucIvYMAAhks"
      }
    },
    {
      "cell_type": "code",
      "source": [
        "print(5+3)\n",
        "print(10-2)\n",
        "print(4*2)\n",
        "print(16/2)"
      ],
      "metadata": {
        "colab": {
          "base_uri": "https://localhost:8080/"
        },
        "id": "I-FyUaYnAuHM",
        "outputId": "b587f0b6-de44-4dc8-94ee-ea93fd21a868"
      },
      "execution_count": 21,
      "outputs": [
        {
          "output_type": "stream",
          "name": "stdout",
          "text": [
            "8\n",
            "8\n",
            "8\n",
            "8.0\n"
          ]
        }
      ]
    },
    {
      "cell_type": "markdown",
      "source": [
        "Q9: Favorite Number: Use a variable to represent your favorite number. Then, using that variable, create a message that reveals your favorite number. Print that message."
      ],
      "metadata": {
        "id": "YSc2IuZpAuzX"
      }
    },
    {
      "cell_type": "code",
      "source": [
        "fav_number = 7\n",
        "message = f\"My favorite number is {fav_number}.\"\n",
        "print(message)"
      ],
      "metadata": {
        "colab": {
          "base_uri": "https://localhost:8080/"
        },
        "id": "26MswVq-A3SN",
        "outputId": "cebd4ec0-b80b-4481-c994-3615d8fc6490"
      },
      "execution_count": 23,
      "outputs": [
        {
          "output_type": "stream",
          "name": "stdout",
          "text": [
            "My favorite number is 7.\n"
          ]
        }
      ]
    },
    {
      "cell_type": "markdown",
      "source": [
        "Q10: Adding Comments: Choose two of the programs you’ve written, and add at least one comment to each. If you don’t have anything specific to write because your programs are too simple at this point, just add your name and the current date at the top of each program file. Then write one sentence describing what the program does."
      ],
      "metadata": {
        "id": "XP0Xm41XA3hD"
      }
    },
    {
      "cell_type": "code",
      "source": [],
      "metadata": {
        "id": "gcoxobGfA7O-"
      },
      "execution_count": null,
      "outputs": []
    }
  ]
}